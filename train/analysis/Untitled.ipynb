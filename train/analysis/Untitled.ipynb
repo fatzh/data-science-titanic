{
 "cells": [
  {
   "cell_type": "markdown",
   "metadata": {},
   "source": [
    "We can plot the learning curves for a Random Forest model based on all the features we extracted. "
   ]
  },
  {
   "cell_type": "code",
   "execution_count": 1,
   "metadata": {
    "collapsed": false
   },
   "outputs": [],
   "source": [
    "import pandas as pd\n",
    "from sklearn import cross_validation\n",
    "from sklearn.ensemble import RandomForestClassifier\n",
    "from sklearn.learning_curve import learning_curve\n",
    "import argparse\n",
    "import sys\n",
    "import numpy as np\n",
    "import matplotlib.pyplot as plt\n",
    "from helpers import helpers\n"
   ]
  },
  {
   "cell_type": "markdown",
   "metadata": {},
   "source": [
    "We can first load the train data which has been properly preprocessed."
   ]
  },
  {
   "cell_type": "code",
   "execution_count": 2,
   "metadata": {
    "collapsed": false
   },
   "outputs": [],
   "source": [
    "# load data\n",
    "df = pd.read_csv('../../preprocessing/output/train.csv', sep=',')\n",
    "\n",
    "# split X and y\n",
    "y = df['Survived']\n",
    "X = df.drop('Survived', 1)\n",
    "\n",
    "# store the feature list\n",
    "features_list = X.columns.values"
   ]
  },
  {
   "cell_type": "markdown",
   "metadata": {},
   "source": [
    "And initialise a simple Random Forest model. Let's use it to look at the most important features."
   ]
  },
  {
   "cell_type": "code",
   "execution_count": 3,
   "metadata": {
    "collapsed": false
   },
   "outputs": [
    {
     "name": "stdout",
     "output_type": "stream",
     "text": [
      "Feature ranking:\n",
      "1. feature age (0.139451)\n",
      "2. feature fare (0.105445)\n",
      "3. feature title_Mr (0.090302)\n",
      "4. feature sex (0.083041)\n",
      "5. feature family_size (0.040963)\n",
      "6. feature title_Miss (0.040464)\n",
      "7. feature bracket (0.033953)\n",
      "8. feature class_3 (0.031704)\n",
      "9. feature title_Mrs (0.029439)\n",
      "10. feature cabin_count (0.020533)\n",
      "11. feature first_ticket_digit_1 (0.020510)\n",
      "12. feature quotes (0.016983)\n",
      "13. feature class_1 (0.015461)\n",
      "14. feature class_2 (0.013766)\n",
      "15. feature first_ticket_digit_3 (0.013607)\n",
      "16. feature port_S (0.012602)\n",
      "17. feature first_ticket_digit_2 (0.010824)\n",
      "18. feature port_C (0.009712)\n",
      "19. feature title_Sir (0.008717)\n",
      "20. feature cabin_deck_E (0.006928)\n"
     ]
    }
   ],
   "source": [
    "# init random forest\n",
    "model_random_forest = RandomForestClassifier(n_estimators=1000)\n",
    "# fit model\n",
    "model_random_forest.fit(X, y)\n",
    "# check feature importance.\n",
    "# http://scikit-learn.org/stable/auto_examples/ensemble/plot_forest_importances.html\n",
    "importances = model_random_forest.feature_importances_\n",
    "indices = np.argsort(importances)[::-1]\n",
    "\n",
    "# Print the feature ranking\n",
    "print(\"Feature ranking:\")\n",
    "\n",
    "for f in range(20):\n",
    "    print(\"%d. feature %s (%f)\" % (f + 1, features_list[indices[f]], importances[indices[f]]))\n"
   ]
  },
  {
   "cell_type": "markdown",
   "metadata": {},
   "source": [
    "Looks like the most important features are the age, fare, sex, title Mr. This seems to make sense as per what we observed from the data. It's good to see that a couple of features we extracted and engineered are actually making it towards the top of the list, namely the bracket indicator, the ticket digits, the quotes...\n",
    "\n",
    "We can draw the learning curves of this model to see how it performs."
   ]
  },
  {
   "cell_type": "code",
   "execution_count": 4,
   "metadata": {
    "collapsed": true
   },
   "outputs": [],
   "source": [
    "# initialise cross-validation\n",
    "cv = cross_validation.ShuffleSplit(X.shape[0], n_iter=10, test_size=0.2, random_state=0)\n"
   ]
  },
  {
   "cell_type": "code",
   "execution_count": null,
   "metadata": {
    "collapsed": true
   },
   "outputs": [],
   "source": [
    "helpers.plot_learning_curve(model_random_forest, \"Random Forest Learning Curves\", X, y, n_jobs=-1, cv=cv)\n",
    "plt.show()"
   ]
  },
  {
   "cell_type": "code",
   "execution_count": null,
   "metadata": {
    "collapsed": true
   },
   "outputs": [],
   "source": []
  }
 ],
 "metadata": {
  "kernelspec": {
   "display_name": "Python 2",
   "language": "python",
   "name": "python2"
  },
  "language_info": {
   "codemirror_mode": {
    "name": "ipython",
    "version": 2
   },
   "file_extension": ".py",
   "mimetype": "text/x-python",
   "name": "python",
   "nbconvert_exporter": "python",
   "pygments_lexer": "ipython2",
   "version": "2.7.10"
  }
 },
 "nbformat": 4,
 "nbformat_minor": 0
}
